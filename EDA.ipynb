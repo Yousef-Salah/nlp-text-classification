{
 "cells": [
  {
   "cell_type": "code",
   "execution_count": 42,
   "id": "04dcd0a3",
   "metadata": {},
   "outputs": [],
   "source": [
    "import os\n",
    "import re\n",
    "\n",
    "import pandas as pd\n",
    "import matplotlib.pyplot as plt"
   ]
  },
  {
   "cell_type": "code",
   "execution_count": 43,
   "id": "edc6a171",
   "metadata": {},
   "outputs": [
    {
     "data": {
      "text/html": [
       "<div>\n",
       "<style scoped>\n",
       "    .dataframe tbody tr th:only-of-type {\n",
       "        vertical-align: middle;\n",
       "    }\n",
       "\n",
       "    .dataframe tbody tr th {\n",
       "        vertical-align: top;\n",
       "    }\n",
       "\n",
       "    .dataframe thead th {\n",
       "        text-align: right;\n",
       "    }\n",
       "</style>\n",
       "<table border=\"1\" class=\"dataframe\">\n",
       "  <thead>\n",
       "    <tr style=\"text-align: right;\">\n",
       "      <th></th>\n",
       "      <th>text</th>\n",
       "      <th>category</th>\n",
       "    </tr>\n",
       "  </thead>\n",
       "  <tbody>\n",
       "    <tr>\n",
       "      <th>0</th>\n",
       "      <td>\\n\\nCOMPUTER TERMINAL SYSTEMS &lt;CPML&gt; COMPLETES...</td>\n",
       "      <td>acq</td>\n",
       "    </tr>\n",
       "    <tr>\n",
       "      <th>1</th>\n",
       "      <td>\\n\\nOHIO MATTRESS &lt;OMT&gt; MAY HAVE LOWER 1ST QTR...</td>\n",
       "      <td>acq</td>\n",
       "    </tr>\n",
       "    <tr>\n",
       "      <th>2</th>\n",
       "      <td>\\n\\nMCLEAN'S &lt;MII&gt; U.S. LINES SETS ASSET TRANS...</td>\n",
       "      <td>acq</td>\n",
       "    </tr>\n",
       "    <tr>\n",
       "      <th>3</th>\n",
       "      <td>\\n\\nCHEMLAWN &lt;CHEM&gt; RISES ON HOPES FOR HIGHER ...</td>\n",
       "      <td>acq</td>\n",
       "    </tr>\n",
       "    <tr>\n",
       "      <th>4</th>\n",
       "      <td>\\n\\n&lt;COFAB INC&gt; BUYS GULFEX FOR UNDISCLOSED AM...</td>\n",
       "      <td>acq</td>\n",
       "    </tr>\n",
       "    <tr>\n",
       "      <th>...</th>\n",
       "      <td>...</td>\n",
       "      <td>...</td>\n",
       "    </tr>\n",
       "    <tr>\n",
       "      <th>11408</th>\n",
       "      <td>\\n\\nPEGASUS GOLD &lt;PGULF&gt; STARTS MILLING IN MON...</td>\n",
       "      <td>zinc</td>\n",
       "    </tr>\n",
       "    <tr>\n",
       "      <th>11409</th>\n",
       "      <td>\\n\\nWORLD ZINC STOCKS FALL 7,700 TONNES IN FEB...</td>\n",
       "      <td>zinc</td>\n",
       "    </tr>\n",
       "    <tr>\n",
       "      <th>11410</th>\n",
       "      <td>\\n\\nLME DETAILS MARCH 1987 TURNOVER\\n\\n    LON...</td>\n",
       "      <td>zinc</td>\n",
       "    </tr>\n",
       "    <tr>\n",
       "      <th>11411</th>\n",
       "      <td>\\n\\nBALL &lt;BLL&gt; TO SUPPLY PENNY BLANKS TO MINTS...</td>\n",
       "      <td>zinc</td>\n",
       "    </tr>\n",
       "    <tr>\n",
       "      <th>11412</th>\n",
       "      <td>\\n\\nWESTMIN TO RAISE MYRA FALLS CAPACITY BY 33...</td>\n",
       "      <td>zinc</td>\n",
       "    </tr>\n",
       "  </tbody>\n",
       "</table>\n",
       "<p>11413 rows × 2 columns</p>\n",
       "</div>"
      ],
      "text/plain": [
       "                                                    text category\n",
       "0      \\n\\nCOMPUTER TERMINAL SYSTEMS <CPML> COMPLETES...      acq\n",
       "1      \\n\\nOHIO MATTRESS <OMT> MAY HAVE LOWER 1ST QTR...      acq\n",
       "2      \\n\\nMCLEAN'S <MII> U.S. LINES SETS ASSET TRANS...      acq\n",
       "3      \\n\\nCHEMLAWN <CHEM> RISES ON HOPES FOR HIGHER ...      acq\n",
       "4      \\n\\n<COFAB INC> BUYS GULFEX FOR UNDISCLOSED AM...      acq\n",
       "...                                                  ...      ...\n",
       "11408  \\n\\nPEGASUS GOLD <PGULF> STARTS MILLING IN MON...     zinc\n",
       "11409  \\n\\nWORLD ZINC STOCKS FALL 7,700 TONNES IN FEB...     zinc\n",
       "11410  \\n\\nLME DETAILS MARCH 1987 TURNOVER\\n\\n    LON...     zinc\n",
       "11411  \\n\\nBALL <BLL> TO SUPPLY PENNY BLANKS TO MINTS...     zinc\n",
       "11412  \\n\\nWESTMIN TO RAISE MYRA FALLS CAPACITY BY 33...     zinc\n",
       "\n",
       "[11413 rows x 2 columns]"
      ]
     },
     "execution_count": 43,
     "metadata": {},
     "output_type": "execute_result"
    }
   ],
   "source": [
    "training_df = pd.read_json('training.json')\n",
    "training_df"
   ]
  },
  {
   "cell_type": "code",
   "execution_count": 44,
   "id": "22809aa9",
   "metadata": {},
   "outputs": [
    {
     "data": {
      "text/html": [
       "<div>\n",
       "<style scoped>\n",
       "    .dataframe tbody tr th:only-of-type {\n",
       "        vertical-align: middle;\n",
       "    }\n",
       "\n",
       "    .dataframe tbody tr th {\n",
       "        vertical-align: top;\n",
       "    }\n",
       "\n",
       "    .dataframe thead th {\n",
       "        text-align: right;\n",
       "    }\n",
       "</style>\n",
       "<table border=\"1\" class=\"dataframe\">\n",
       "  <thead>\n",
       "    <tr style=\"text-align: right;\">\n",
       "      <th></th>\n",
       "      <th>text</th>\n",
       "      <th>category</th>\n",
       "    </tr>\n",
       "  </thead>\n",
       "  <tbody>\n",
       "    <tr>\n",
       "      <th>0</th>\n",
       "      <td>\\n\\nSUMITOMO BANK AIMS AT QUICK RECOVERY FROM ...</td>\n",
       "      <td>acq</td>\n",
       "    </tr>\n",
       "    <tr>\n",
       "      <th>1</th>\n",
       "      <td>\\n\\nBOND CORP STILL CONSIDERING ATLAS MINING B...</td>\n",
       "      <td>acq</td>\n",
       "    </tr>\n",
       "    <tr>\n",
       "      <th>2</th>\n",
       "      <td>\\n\\nCRA SOLD FORREST GOLD FOR 76 MLN DLRS - WH...</td>\n",
       "      <td>acq</td>\n",
       "    </tr>\n",
       "    <tr>\n",
       "      <th>3</th>\n",
       "      <td>\\n\\nANHEUSER-BUSCH JOINS BID FOR SAN MIGUEL\\n\\...</td>\n",
       "      <td>acq</td>\n",
       "    </tr>\n",
       "    <tr>\n",
       "      <th>4</th>\n",
       "      <td>\\n\\nMONIER SAYS BRITAIN'S REDLAND MAY BID FOR ...</td>\n",
       "      <td>acq</td>\n",
       "    </tr>\n",
       "    <tr>\n",
       "      <th>...</th>\n",
       "      <td>...</td>\n",
       "      <td>...</td>\n",
       "    </tr>\n",
       "    <tr>\n",
       "      <th>4019</th>\n",
       "      <td>\\n\\nFORCE MAJEURE LIFTED AT CAJAMARQUILLA\\n\\n ...</td>\n",
       "      <td>zinc</td>\n",
       "    </tr>\n",
       "    <tr>\n",
       "      <th>4020</th>\n",
       "      <td>\\n\\nNORANDA BRUNSWICK MINERS VOTE MONDAY ON CO...</td>\n",
       "      <td>zinc</td>\n",
       "    </tr>\n",
       "    <tr>\n",
       "      <th>4021</th>\n",
       "      <td>\\n\\nNO COMINCO STRIKE TALKS SCHEDULED\\n\\n    T...</td>\n",
       "      <td>zinc</td>\n",
       "    </tr>\n",
       "    <tr>\n",
       "      <th>4022</th>\n",
       "      <td>\\n\\nAMAX ZINC CO RAISES DYECAST ALLOY PRICES\\n...</td>\n",
       "      <td>zinc</td>\n",
       "    </tr>\n",
       "    <tr>\n",
       "      <th>4023</th>\n",
       "      <td>\\n\\nU.S. MINERALS &lt;USMX.O&gt; COMMISSIONS NEW GOL...</td>\n",
       "      <td>zinc</td>\n",
       "    </tr>\n",
       "  </tbody>\n",
       "</table>\n",
       "<p>4024 rows × 2 columns</p>\n",
       "</div>"
      ],
      "text/plain": [
       "                                                   text category\n",
       "0     \\n\\nSUMITOMO BANK AIMS AT QUICK RECOVERY FROM ...      acq\n",
       "1     \\n\\nBOND CORP STILL CONSIDERING ATLAS MINING B...      acq\n",
       "2     \\n\\nCRA SOLD FORREST GOLD FOR 76 MLN DLRS - WH...      acq\n",
       "3     \\n\\nANHEUSER-BUSCH JOINS BID FOR SAN MIGUEL\\n\\...      acq\n",
       "4     \\n\\nMONIER SAYS BRITAIN'S REDLAND MAY BID FOR ...      acq\n",
       "...                                                 ...      ...\n",
       "4019  \\n\\nFORCE MAJEURE LIFTED AT CAJAMARQUILLA\\n\\n ...     zinc\n",
       "4020  \\n\\nNORANDA BRUNSWICK MINERS VOTE MONDAY ON CO...     zinc\n",
       "4021  \\n\\nNO COMINCO STRIKE TALKS SCHEDULED\\n\\n    T...     zinc\n",
       "4022  \\n\\nAMAX ZINC CO RAISES DYECAST ALLOY PRICES\\n...     zinc\n",
       "4023  \\n\\nU.S. MINERALS <USMX.O> COMMISSIONS NEW GOL...     zinc\n",
       "\n",
       "[4024 rows x 2 columns]"
      ]
     },
     "execution_count": 44,
     "metadata": {},
     "output_type": "execute_result"
    }
   ],
   "source": [
    "testing_df = pd.read_json('testing.json')\n",
    "testing_df"
   ]
  },
  {
   "cell_type": "code",
   "execution_count": 45,
   "id": "357e8d35",
   "metadata": {},
   "outputs": [
    {
     "data": {
      "text/plain": [
       "category\n",
       "earn             2877\n",
       "unknown          1830\n",
       "acq              1650\n",
       "money-fx          538\n",
       "grain             433\n",
       "                 ... \n",
       "cotton-oil          1\n",
       "rye                 1\n",
       "groundnut-oil       1\n",
       "lin-oil             1\n",
       "castor-oil          1\n",
       "Name: count, Length: 91, dtype: int64"
      ]
     },
     "execution_count": 45,
     "metadata": {},
     "output_type": "execute_result"
    }
   ],
   "source": [
    "training_df['category'].value_counts()"
   ]
  },
  {
   "cell_type": "code",
   "execution_count": 46,
   "id": "3bf51b0a",
   "metadata": {},
   "outputs": [
    {
     "data": {
      "text/plain": [
       "Index(['earn', 'unknown', 'acq', 'money-fx', 'grain', 'crude', 'trade',\n",
       "       'interest', 'wheat', 'ship', 'corn', 'money-supply', 'dlr', 'sugar',\n",
       "       'oilseed', 'coffee', 'gnp', 'gold', 'veg-oil', 'soybean', 'livestock',\n",
       "       'bop', 'nat-gas', 'cpi', 'cocoa', 'reserves', 'carcass', 'copper',\n",
       "       'jobs', 'yen', 'ipi', 'iron-steel', 'cotton', 'gas', 'rubber', 'barley',\n",
       "       'rice', 'alum', 'palm-oil', 'meal-feed', 'sorghum', 'retail', 'zinc',\n",
       "       'silver', 'pet-chem', 'wpi', 'tin', 'rapeseed', 'strategic-metal',\n",
       "       'housing', 'hog', 'orange', 'lead', 'heat', 'soy-oil', 'soy-meal',\n",
       "       'fuel', 'lei', 'sunseed', 'dmk', 'lumber', 'tea', 'income', 'nickel',\n",
       "       'oat', 'l-cattle', 'platinum', 'rape-oil', 'instal-debt', 'sun-oil',\n",
       "       'groundnut', 'coconut', 'coconut-oil', 'jet', 'cpu', 'propane',\n",
       "       'potato', 'copra-cake', 'palladium', 'nzdlr', 'dfl', 'palmkernel',\n",
       "       'rand', 'naphtha', 'sun-meal', 'nkr', 'cotton-oil', 'rye',\n",
       "       'groundnut-oil', 'lin-oil', 'castor-oil'],\n",
       "      dtype='object', name='category')"
      ]
     },
     "execution_count": 46,
     "metadata": {},
     "output_type": "execute_result"
    }
   ],
   "source": [
    "training_df['category'].value_counts().index"
   ]
  },
  {
   "cell_type": "code",
   "execution_count": 47,
   "id": "ac450425",
   "metadata": {},
   "outputs": [
    {
     "data": {
      "image/png": "[encoded data removed]",
      "text/plain": [
       "<Figure size 640x480 with 1 Axes>"
      ]
     },
     "metadata": {},
     "output_type": "display_data"
    }
   ],
   "source": [
    "import matplotlib.pyplot as plt\n",
    "\n",
    "fig, ax = plt.subplots()\n",
    "\n",
    "labels = training_df['category'].value_counts().index\n",
    "values = training_df['category'].value_counts().values\n",
    "\n",
    "ax.bar(labels, values)\n",
    "\n",
    "ax.set_ylabel('Class Occurences')\n",
    "ax.set_title('Classes Distribution')\n",
    "\n",
    "\n",
    "plt.show()"
   ]
  },
  {
   "cell_type": "markdown",
   "id": "8d8a037d",
   "metadata": {},
   "source": [
    "### Classes with lowes appering frequency"
   ]
  },
  {
   "cell_type": "code",
   "execution_count": 48,
   "id": "7714b545",
   "metadata": {
    "scrolled": true
   },
   "outputs": [
    {
     "data": {
      "text/plain": [
       "Index(['earn', 'unknown', 'acq', 'money-fx', 'grain', 'crude', 'trade',\n",
       "       'interest', 'wheat', 'ship', 'corn', 'money-supply', 'dlr', 'sugar',\n",
       "       'oilseed', 'coffee', 'gnp', 'gold', 'veg-oil', 'soybean', 'livestock',\n",
       "       'bop', 'nat-gas', 'cpi', 'cocoa', 'reserves', 'carcass', 'copper',\n",
       "       'jobs', 'yen', 'ipi', 'iron-steel', 'cotton', 'gas', 'rubber', 'barley',\n",
       "       'rice', 'alum', 'palm-oil', 'meal-feed', 'sorghum', 'retail', 'zinc',\n",
       "       'silver', 'pet-chem', 'wpi', 'tin', 'rapeseed', 'strategic-metal',\n",
       "       'housing', 'hog', 'orange', 'lead', 'heat', 'soy-oil', 'soy-meal',\n",
       "       'fuel', 'lei', 'sunseed', 'dmk', 'lumber', 'tea', 'income', 'nickel',\n",
       "       'oat', 'l-cattle', 'platinum', 'rape-oil', 'instal-debt', 'sun-oil',\n",
       "       'groundnut', 'coconut', 'coconut-oil', 'jet', 'cpu', 'propane',\n",
       "       'potato', 'copra-cake', 'palladium', 'nzdlr', 'dfl', 'palmkernel',\n",
       "       'rand', 'naphtha', 'sun-meal', 'nkr', 'cotton-oil', 'rye',\n",
       "       'groundnut-oil', 'lin-oil', 'castor-oil'],\n",
       "      dtype='object', name='category')"
      ]
     },
     "execution_count": 48,
     "metadata": {},
     "output_type": "execute_result"
    }
   ],
   "source": [
    "(training_df['category'].value_counts() < 100).index"
   ]
  },
  {
   "cell_type": "code",
   "execution_count": 49,
   "id": "4e674b0d",
   "metadata": {},
   "outputs": [],
   "source": [
    "categories = (training_df['category'].value_counts() < 100).index"
   ]
  },
  {
   "cell_type": "code",
   "execution_count": 50,
   "id": "979fd157",
   "metadata": {},
   "outputs": [
    {
     "data": {
      "image/png": "[encoded data removed]",
      "text/plain": [
       "<Figure size 640x480 with 1 Axes>"
      ]
     },
     "metadata": {},
     "output_type": "display_data"
    }
   ],
   "source": [
    "import matplotlib.pyplot as plt\n",
    "\n",
    "fig, ax = plt.subplots()\n",
    "\n",
    "categories_frequencies = training_df['category'].value_counts() \n",
    "categories_frequencies = categories_frequencies[categories_frequencies < 250]\n",
    "\n",
    "labels = categories_frequencies.index\n",
    "values = categories_frequencies.values\n",
    "\n",
    "ax.bar(labels, values)\n",
    "\n",
    "ax.set_ylabel('Class Occurences')\n",
    "ax.set_title('Classes Distribution')\n",
    "\n",
    "\n",
    "plt.show()"
   ]
  },
  {
   "cell_type": "code",
   "execution_count": 51,
   "id": "21d0c842",
   "metadata": {},
   "outputs": [
    {
     "data": {
      "text/plain": [
       "83"
      ]
     },
     "execution_count": 51,
     "metadata": {},
     "output_type": "execute_result"
    }
   ],
   "source": [
    "categories_frequencies[categories_frequencies < 250].size"
   ]
  },
  {
   "cell_type": "code",
   "execution_count": null,
   "id": "ee358b5e",
   "metadata": {},
   "outputs": [],
   "source": [
    "labes = ['1-hid', '2-hid', '3-hid']\n",
    "values = [0.2956, 0.2896, 0.2817]\n",
    "\n",
    "plt.bar()"
   ]
  }
 ],
 "metadata": {
  "kernelspec": {
   "display_name": "Python 3 (ipykernel)",
   "language": "python",
   "name": "python3"
  },
  "language_info": {
   "codemirror_mode": {
    "name": "ipython",
    "version": 3
   },
   "file_extension": ".py",
   "mimetype": "text/x-python",
   "name": "python",
   "nbconvert_exporter": "python",
   "pygments_lexer": "ipython3",
   "version": "3.11.5"
  }
 },
 "nbformat": 4,
 "nbformat_minor": 5
}
